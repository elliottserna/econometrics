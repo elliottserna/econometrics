{
 "cells": [
  {
   "cell_type": "markdown",
   "metadata": {},
   "source": [
    "# Probability: Law of Large Numbers Simulation\n",
    "\n",
    "The below interactive plot allows you to see how increasing the number of times you flip a coin, in the long run, converges to a 0.5 probability of landing on heads. "
   ]
  },
  {
   "cell_type": "code",
   "execution_count": 4,
   "metadata": {},
   "outputs": [
    {
     "data": {
      "application/vnd.jupyter.widget-view+json": {
       "model_id": "7d8366f51613486bbc3ef067328477bb",
       "version_major": 2,
       "version_minor": 0
      },
      "text/plain": [
       "interactive(children=(IntSlider(value=10, description='Flips Per Trial:', max=200000, min=1), Output(layout=La…"
      ]
     },
     "metadata": {},
     "output_type": "display_data"
    }
   ],
   "source": [
    "import pandas as pd\n",
    "import matplotlib.pyplot as plt\n",
    "import numpy as np\n",
    "import ipywidgets as widgets\n",
    "from ipywidgets import interactive\n",
    "\n",
    "# First we'll define a general function to plot a histogram for every iteration\n",
    "def plot_histogram(n):\n",
    "    # Same binomial trial code as earlier; omit \"n\" here as it's defined later by the slider\n",
    "    p = 0.5   # Probability of heads for a fair coin\n",
    "    num_trials = 1000000  # Number of trials\n",
    "\n",
    "    results = np.random.binomial(n, p, num_trials)\n",
    "    success_count = np.sum((results >= .495*n) & (results <= .505*n))\n",
    "\n",
    "    success_rate = success_count / num_trials # Calculate the success rate\n",
    "    \n",
    "    # Same basic histogram code as earlier with added lines for the [49.5%, 50.5%] range\n",
    "    fig, ax = plt.subplots()\n",
    "    ax.hist(results, bins=100, density=True)\n",
    "    ax.axvline(x=0.495 * n, color='red', linestyle='--', label=\"49.5%\") # Set the 49.5% line\n",
    "    ax.axvline(x=0.505 * n, color='red', linestyle='--', label=\"50.5%\") # Set the 50.5% line\n",
    "    ax.set_title(f\"Histogram of Heads in 100,000 Trials\\n\"\n",
    "                 f\"(N={n} Flips Per Trial)\\n\"\n",
    "                 f\"Success Rate: {success_rate:.3f}\")\n",
    "    ax.set_xlabel('Number of Heads')\n",
    "    ax.set_ylabel('Density')\n",
    "    ax.legend()\n",
    "    plt.show()\n",
    "\n",
    "# Create an interactive slider widget for number of flips (n)\n",
    "n_slider = widgets.IntSlider(value=10, min=1, max=200000, step=1, description='Flips Per Trial:')\n",
    "\n",
    "# Integrate the slider with the above plot function to make a dynamic graph\n",
    "interactive_plot = interactive(plot_histogram, n=n_slider)\n",
    "output = interactive_plot.children[-1]\n",
    "output.layout.height = '500px'\n",
    "interactive_plot\n",
    "\n"
   ]
  },
  {
   "cell_type": "markdown",
   "metadata": {},
   "source": [
    "As you can see, increasing the number of coin flips per trial for a set of 10,000 trials leads to more and more of the density being in the neighborhood of 50%."
   ]
  }
 ],
 "metadata": {
  "kernelspec": {
   "display_name": "Python 3 (ipykernel)",
   "language": "python",
   "name": "python3"
  },
  "language_info": {
   "codemirror_mode": {
    "name": "ipython",
    "version": 3
   },
   "file_extension": ".py",
   "mimetype": "text/x-python",
   "name": "python",
   "nbconvert_exporter": "python",
   "pygments_lexer": "ipython3",
   "version": "3.12.5"
  }
 },
 "nbformat": 4,
 "nbformat_minor": 4
}
